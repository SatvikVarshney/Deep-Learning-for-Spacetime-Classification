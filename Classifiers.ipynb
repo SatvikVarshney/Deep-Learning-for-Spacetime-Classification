{
  "nbformat": 4,
  "nbformat_minor": 0,
  "metadata": {
    "colab": {
      "provenance": [],
      "include_colab_link": true
    },
    "kernelspec": {
      "name": "python3",
      "display_name": "Python 3"
    },
    "language_info": {
      "name": "python"
    }
  },
  "cells": [
    {
      "cell_type": "markdown",
      "metadata": {
        "id": "view-in-github",
        "colab_type": "text"
      },
      "source": [
        "<a href=\"https://colab.research.google.com/github/SatvikVarshney/Group1_Final_Project/blob/main/petrov.ipynb\" target=\"_parent\"><img src=\"https://colab.research.google.com/assets/colab-badge.svg\" alt=\"Open In Colab\"/></a>"
      ]
    },
    {
      "cell_type": "code",
      "execution_count": null,
      "metadata": {
        "id": "tOmUKJeS34LV"
      },
      "outputs": [],
      "source": [
        "import pandas as pd\n",
        "import numpy as np\n",
        "from sklearn.metrics import confusion_matrix,classification_report\n",
        "from sklearn.metrics import accuracy_score\n"
      ]
    },
    {
      "cell_type": "code",
      "source": [
        "df1=pd.read_csv(\"shuffledratio (3).csv\", header=None)\n",
        "df1 = df1.iloc[1:,1:]\n",
        "print(df1)"
      ],
      "metadata": {
        "id": "jooWCyfX4K_2",
        "colab": {
          "base_uri": "https://localhost:8080/"
        },
        "outputId": "c2ebbf6c-2a0e-4f9f-bac6-72ecb6aa1b02"
      },
      "execution_count": null,
      "outputs": [
        {
          "output_type": "stream",
          "name": "stdout",
          "text": [
            "         1  2  3  4   5    6\n",
            "1        0 -1  0  0   0  III\n",
            "2       -7  0  0  0  10    I\n",
            "3        5  0  0 -6   0    I\n",
            "4       -8  0  0  7   0    I\n",
            "5        1  0  2  0   0   II\n",
            "...     .. .. .. ..  ..  ...\n",
            "329996 -10  0  0  0   9    I\n",
            "329997   0  9  0 -2   0    I\n",
            "329998   0  0  4  0   0    D\n",
            "329999   0  0  0 -5   0  III\n",
            "330000   0  0  7  0  -4   II\n",
            "\n",
            "[330000 rows x 6 columns]\n"
          ]
        }
      ]
    },
    {
      "cell_type": "code",
      "source": [
        "def convert(y_val):\n",
        "      if y_val == \"O\": y_val=0\n",
        "      elif y_val == \"I\": y_val=1\n",
        "      elif y_val == \"II\": y_val=2\n",
        "      elif y_val == \"III\": y_val=3\n",
        "      elif y_val == \"D\": y_val=4\n",
        "      elif y_val == \"N\": y_val=5\n",
        "      return y_val\n",
        "      "
      ],
      "metadata": {
        "id": "o4zQQ_E75w90"
      },
      "execution_count": null,
      "outputs": []
    },
    {
      "cell_type": "code",
      "source": [
        "df1[6]=df1[6].apply(convert)"
      ],
      "metadata": {
        "id": "9BadlxRs5VtY"
      },
      "execution_count": null,
      "outputs": []
    },
    {
      "cell_type": "code",
      "source": [
        "print(df1)"
      ],
      "metadata": {
        "colab": {
          "base_uri": "https://localhost:8080/"
        },
        "id": "_8l_qxY16llx",
        "outputId": "d513398e-6bf1-41a8-ddc4-5becba0f9be8"
      },
      "execution_count": null,
      "outputs": [
        {
          "output_type": "stream",
          "name": "stdout",
          "text": [
            "         1  2  3  4   5  6\n",
            "1        0 -1  0  0   0  3\n",
            "2       -7  0  0  0  10  1\n",
            "3        5  0  0 -6   0  1\n",
            "4       -8  0  0  7   0  1\n",
            "5        1  0  2  0   0  2\n",
            "...     .. .. .. ..  .. ..\n",
            "329996 -10  0  0  0   9  1\n",
            "329997   0  9  0 -2   0  1\n",
            "329998   0  0  4  0   0  4\n",
            "329999   0  0  0 -5   0  3\n",
            "330000   0  0  7  0  -4  2\n",
            "\n",
            "[330000 rows x 6 columns]\n"
          ]
        }
      ]
    },
    {
      "cell_type": "code",
      "source": [
        "labels = np.array(df1[6])\n",
        "result=df1.drop(columns=[6])\n",
        "feature_list = list(result.columns)\n",
        "result=np.array(result)\n"
      ],
      "metadata": {
        "id": "68XoNczI_YTY"
      },
      "execution_count": null,
      "outputs": []
    },
    {
      "cell_type": "code",
      "source": [
        "from sklearn.model_selection import train_test_split\n",
        "train_features, test_features, train_labels, test_labels = train_test_split(result, labels, test_size = 0.25, random_state = 42, shuffle=True)"
      ],
      "metadata": {
        "id": "Ml3lgQrj_9VN"
      },
      "execution_count": null,
      "outputs": []
    },
    {
      "cell_type": "code",
      "source": [
        "print('Training Features Shape:', train_features.shape)\n",
        "print('Training Labels Shape:', train_labels.shape)\n",
        "print('Testing Features Shape:', test_features.shape)\n",
        "print('Testing Labels Shape:', test_labels.shape)"
      ],
      "metadata": {
        "colab": {
          "base_uri": "https://localhost:8080/"
        },
        "id": "1clFKqQbAHlL",
        "outputId": "0bf1bd37-6a93-4150-d0dd-2a7d1e5b04e7"
      },
      "execution_count": null,
      "outputs": [
        {
          "output_type": "stream",
          "name": "stdout",
          "text": [
            "Training Features Shape: (247500, 5)\n",
            "Training Labels Shape: (247500,)\n",
            "Testing Features Shape: (82500, 5)\n",
            "Testing Labels Shape: (82500,)\n"
          ]
        }
      ]
    },
    {
      "cell_type": "markdown",
      "source": [
        "Random Forest"
      ],
      "metadata": {
        "id": "iND6Q0FUH9I0"
      }
    },
    {
      "cell_type": "code",
      "source": [
        "# Import the model we are using\n",
        "from sklearn.ensemble import RandomForestClassifier\n",
        "# Instantiate model with 1000 decision trees\n",
        "rf = RandomForestClassifier(n_estimators = 1000, random_state = 42)\n",
        "# Train the model on training data\n",
        "rf.fit(train_features, train_labels);"
      ],
      "metadata": {
        "id": "21CXBsbBAKaW"
      },
      "execution_count": null,
      "outputs": []
    },
    {
      "cell_type": "code",
      "source": [
        "predictions = rf.predict(test_features)"
      ],
      "metadata": {
        "id": "r1cRKM74hRHj"
      },
      "execution_count": null,
      "outputs": []
    },
    {
      "cell_type": "code",
      "source": [
        "cm = confusion_matrix(test_labels, predictions)\n",
        "print(cm)"
      ],
      "metadata": {
        "colab": {
          "base_uri": "https://localhost:8080/"
        },
        "id": "O0hs9GnshTxo",
        "outputId": "bf974fdc-db5e-4543-ba63-00090edab2b1"
      },
      "execution_count": null,
      "outputs": [
        {
          "output_type": "stream",
          "name": "stdout",
          "text": [
            "[[ 2465     0     0     0     0     0]\n",
            " [    0 31477     0     0     0     0]\n",
            " [    0     0 22484     0     0     0]\n",
            " [    0     0     0 13895     0     0]\n",
            " [    0     0     0     0  6219     0]\n",
            " [    0     0     0     0     0  5960]]\n"
          ]
        }
      ]
    },
    {
      "cell_type": "code",
      "source": [
        "print(classification_report(test_labels,predictions))\n",
        "print (\"Accuracy : \",\n",
        "    accuracy_score(test_labels,predictions)*100)"
      ],
      "metadata": {
        "colab": {
          "base_uri": "https://localhost:8080/"
        },
        "id": "ZcawJXWphvE1",
        "outputId": "a4822f1d-c63d-4587-e649-e3af31e9da86"
      },
      "execution_count": null,
      "outputs": [
        {
          "output_type": "stream",
          "name": "stdout",
          "text": [
            "              precision    recall  f1-score   support\n",
            "\n",
            "           0       1.00      1.00      1.00      2465\n",
            "           1       1.00      1.00      1.00     31477\n",
            "           2       1.00      1.00      1.00     22484\n",
            "           3       1.00      1.00      1.00     13895\n",
            "           4       1.00      1.00      1.00      6219\n",
            "           5       1.00      1.00      1.00      5960\n",
            "\n",
            "    accuracy                           1.00     82500\n",
            "   macro avg       1.00      1.00      1.00     82500\n",
            "weighted avg       1.00      1.00      1.00     82500\n",
            "\n",
            "Accuracy :  100.0\n"
          ]
        }
      ]
    },
    {
      "cell_type": "markdown",
      "source": [
        "Decision tree"
      ],
      "metadata": {
        "id": "PU9yFhr0H_mV"
      }
    },
    {
      "cell_type": "code",
      "source": [
        "from sklearn import tree\n",
        "from sklearn.tree import DecisionTreeClassifier\n",
        "import matplotlib.pyplot as plt\n"
      ],
      "metadata": {
        "id": "d7DERlHYA12B"
      },
      "execution_count": null,
      "outputs": []
    },
    {
      "cell_type": "code",
      "source": [
        "features = [0,1,2,3,4]"
      ],
      "metadata": {
        "id": "m6Qt9hvtFqbg"
      },
      "execution_count": null,
      "outputs": []
    },
    {
      "cell_type": "code",
      "source": [
        "clf_gini = DecisionTreeClassifier(criterion = \"entropy\",\n",
        "            random_state = 100,max_depth=30, min_samples_leaf=5)\n",
        "clf_gini.fit(train_features, train_labels)"
      ],
      "metadata": {
        "colab": {
          "base_uri": "https://localhost:8080/"
        },
        "id": "JDTgxVZMFiG9",
        "outputId": "20bdcf1d-6177-4a3f-83eb-6fff6e3968da"
      },
      "execution_count": null,
      "outputs": [
        {
          "output_type": "execute_result",
          "data": {
            "text/plain": [
              "DecisionTreeClassifier(criterion='entropy', max_depth=30, min_samples_leaf=5,\n",
              "                       random_state=100)"
            ]
          },
          "metadata": {},
          "execution_count": 37
        }
      ]
    },
    {
      "cell_type": "code",
      "source": [
        "y_pred = clf_gini.predict(test_features)\n",
        "print(\"Confusion Matrix: \\n\",\n",
        "        confusion_matrix(test_labels, y_pred))\n",
        "      \n",
        "print (\"Accuracy : \",\n",
        "    accuracy_score(test_labels,y_pred)*100)"
      ],
      "metadata": {
        "colab": {
          "base_uri": "https://localhost:8080/"
        },
        "id": "62-UQ3OBF0KP",
        "outputId": "115f0ca9-22bd-4405-a70c-fc4b30feda1e"
      },
      "execution_count": null,
      "outputs": [
        {
          "output_type": "stream",
          "name": "stdout",
          "text": [
            "Confusion Matrix: \n",
            " [[ 2465     0     0     0     0     0]\n",
            " [    0 31477     0     0     0     0]\n",
            " [    0     0 22484     0     0     0]\n",
            " [    0     0     0 13895     0     0]\n",
            " [    0     0     0     0  6219     0]\n",
            " [    0     0     0     0     0  5960]]\n",
            "Accuracy :  100.0\n"
          ]
        }
      ]
    },
    {
      "cell_type": "markdown",
      "source": [
        "Nearest Neighbour"
      ],
      "metadata": {
        "id": "D6kcDbbFIBRm"
      }
    },
    {
      "cell_type": "code",
      "source": [
        "from sklearn.neighbors import KNeighborsClassifier\n",
        "knn = KNeighborsClassifier(n_neighbors=6)\n",
        "knn.fit(train_features, train_labels)"
      ],
      "metadata": {
        "colab": {
          "base_uri": "https://localhost:8080/"
        },
        "id": "KVfoOlH5H0XH",
        "outputId": "4cef9849-4491-4b7d-fdf9-21b5266581fc"
      },
      "execution_count": null,
      "outputs": [
        {
          "output_type": "execute_result",
          "data": {
            "text/plain": [
              "KNeighborsClassifier(n_neighbors=6)"
            ]
          },
          "metadata": {},
          "execution_count": 39
        }
      ]
    },
    {
      "cell_type": "code",
      "source": [
        "print(knn.score(test_features, test_labels))"
      ],
      "metadata": {
        "colab": {
          "base_uri": "https://localhost:8080/"
        },
        "id": "br3Ud2KaJPwQ",
        "outputId": "9fcf6ee9-ace4-42b6-e1e4-ff055c44d9f7"
      },
      "execution_count": null,
      "outputs": [
        {
          "output_type": "stream",
          "name": "stdout",
          "text": [
            "0.9969454545454546\n"
          ]
        }
      ]
    },
    {
      "cell_type": "code",
      "source": [
        "y_pred = knn.predict(test_features)"
      ],
      "metadata": {
        "id": "iglRQ4wHJZ2j"
      },
      "execution_count": null,
      "outputs": []
    },
    {
      "cell_type": "code",
      "source": [
        "print(\"Confusion Matrix: \\n\",\n",
        "        confusion_matrix(test_labels, y_pred))"
      ],
      "metadata": {
        "colab": {
          "base_uri": "https://localhost:8080/"
        },
        "id": "1zCvzRIRJWsA",
        "outputId": "634a60ec-b89e-4a93-e57c-01595556ff41"
      },
      "execution_count": null,
      "outputs": [
        {
          "output_type": "stream",
          "name": "stdout",
          "text": [
            "Confusion Matrix: \n",
            " [[ 2465     0     0     0     0     0]\n",
            " [    0 31248   229     0     0     0]\n",
            " [    0     0 22461    13    10     0]\n",
            " [    0     0     0 13895     0     0]\n",
            " [    0     0     0     0  6219     0]\n",
            " [    0     0     0     0     0  5960]]\n"
          ]
        }
      ]
    },
    {
      "cell_type": "code",
      "source": [
        "print (\"Accuracy : \",\n",
        "    accuracy_score(test_labels,y_pred)*100)"
      ],
      "metadata": {
        "colab": {
          "base_uri": "https://localhost:8080/"
        },
        "id": "sZUh3TIrjEyd",
        "outputId": "ae2b3332-c2ba-4096-b566-d57f2b8b245f"
      },
      "execution_count": null,
      "outputs": [
        {
          "output_type": "stream",
          "name": "stdout",
          "text": [
            "Accuracy :  99.69454545454546\n"
          ]
        }
      ]
    }
  ]
}
